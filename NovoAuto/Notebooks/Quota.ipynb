{
 "cells": [
  {
   "cell_type": "markdown",
   "metadata": {},
   "source": [
    "### Import Libery for develop\n",
    "this section allow load everything dependence for develop the\n",
    "automate scrip and change all template AB/RE and Quotas. for this one\n",
    "it's need to get files with templates before to start. for every file\n",
    "it contein with 2 sheets.\n",
    "- NovoSeven\n",
    "- NovoEight"
   ]
  },
  {
   "cell_type": "code",
   "execution_count": 2,
   "metadata": {},
   "outputs": [],
   "source": [
    "import numpy as np\n",
    "import pandas as pd"
   ]
  },
  {
   "cell_type": "markdown",
   "metadata": {},
   "source": [
    "# Quota\n"
   ]
  },
  {
   "cell_type": "code",
   "execution_count": 5,
   "metadata": {},
   "outputs": [
    {
     "ename": "ValueError",
     "evalue": "Worksheet named '' not found",
     "output_type": "error",
     "traceback": [
      "\u001b[1;31m---------------------------------------------------------------------------\u001b[0m",
      "\u001b[1;31mValueError\u001b[0m                                Traceback (most recent call last)",
      "\u001b[1;32mc:\\Users\\mateo\\Documents\\NovoAuto\\NovoAuto\\Notebooks\\Quota.ipynb Celda 4\u001b[0m line \u001b[0;36m1\n\u001b[1;32m----> <a href='vscode-notebook-cell:/c%3A/Users/mateo/Documents/NovoAuto/NovoAuto/Notebooks/Quota.ipynb#W3sZmlsZQ%3D%3D?line=0'>1</a>\u001b[0m QU \u001b[39m=\u001b[39m pd\u001b[39m.\u001b[39;49mread_excel(\u001b[39mr\u001b[39;49m\u001b[39m'\u001b[39;49m\u001b[39mC:\u001b[39;49m\u001b[39m\\\u001b[39;49m\u001b[39mUsers\u001b[39;49m\u001b[39m\\\u001b[39;49m\u001b[39mmateo\u001b[39;49m\u001b[39m\\\u001b[39;49m\u001b[39mDocuments\u001b[39;49m\u001b[39m\\\u001b[39;49m\u001b[39mNovoAuto\u001b[39;49m\u001b[39m\\\u001b[39;49m\u001b[39mNovoAuto\u001b[39;49m\u001b[39m\\\u001b[39;49m\u001b[39mInput\u001b[39;49m\u001b[39m\\\u001b[39;49m\u001b[39mQUOTA.xlsx\u001b[39;49m\u001b[39m'\u001b[39;49m,sheet_name\u001b[39m=\u001b[39;49m\u001b[39m'\u001b[39;49m\u001b[39m'\u001b[39;49m)\n\u001b[0;32m      <a href='vscode-notebook-cell:/c%3A/Users/mateo/Documents/NovoAuto/NovoAuto/Notebooks/Quota.ipynb#W3sZmlsZQ%3D%3D?line=1'>2</a>\u001b[0m QU\u001b[39m.\u001b[39mcolumns \u001b[39m=\u001b[39m QU\u001b[39m.\u001b[39mcolumns\u001b[39m.\u001b[39mmap(\u001b[39mlambda\u001b[39;00m x: \u001b[39m'\u001b[39m\u001b[39m'\u001b[39m)\n\u001b[0;32m      <a href='vscode-notebook-cell:/c%3A/Users/mateo/Documents/NovoAuto/NovoAuto/Notebooks/Quota.ipynb#W3sZmlsZQ%3D%3D?line=2'>3</a>\u001b[0m customers_name \u001b[39m=\u001b[39m QU\u001b[39m.\u001b[39miloc[:,\u001b[39m0\u001b[39m]\n",
      "File \u001b[1;32mc:\\Users\\mateo\\Documents\\NovoAuto\\NovoAuto\\.venv\\lib\\site-packages\\pandas\\io\\excel\\_base.py:517\u001b[0m, in \u001b[0;36mread_excel\u001b[1;34m(io, sheet_name, header, names, index_col, usecols, dtype, engine, converters, true_values, false_values, skiprows, nrows, na_values, keep_default_na, na_filter, verbose, parse_dates, date_parser, date_format, thousands, decimal, comment, skipfooter, storage_options, dtype_backend, engine_kwargs)\u001b[0m\n\u001b[0;32m    511\u001b[0m     \u001b[39mraise\u001b[39;00m \u001b[39mValueError\u001b[39;00m(\n\u001b[0;32m    512\u001b[0m         \u001b[39m\"\u001b[39m\u001b[39mEngine should not be specified when passing \u001b[39m\u001b[39m\"\u001b[39m\n\u001b[0;32m    513\u001b[0m         \u001b[39m\"\u001b[39m\u001b[39man ExcelFile - ExcelFile already has the engine set\u001b[39m\u001b[39m\"\u001b[39m\n\u001b[0;32m    514\u001b[0m     )\n\u001b[0;32m    516\u001b[0m \u001b[39mtry\u001b[39;00m:\n\u001b[1;32m--> 517\u001b[0m     data \u001b[39m=\u001b[39m io\u001b[39m.\u001b[39;49mparse(\n\u001b[0;32m    518\u001b[0m         sheet_name\u001b[39m=\u001b[39;49msheet_name,\n\u001b[0;32m    519\u001b[0m         header\u001b[39m=\u001b[39;49mheader,\n\u001b[0;32m    520\u001b[0m         names\u001b[39m=\u001b[39;49mnames,\n\u001b[0;32m    521\u001b[0m         index_col\u001b[39m=\u001b[39;49mindex_col,\n\u001b[0;32m    522\u001b[0m         usecols\u001b[39m=\u001b[39;49musecols,\n\u001b[0;32m    523\u001b[0m         dtype\u001b[39m=\u001b[39;49mdtype,\n\u001b[0;32m    524\u001b[0m         converters\u001b[39m=\u001b[39;49mconverters,\n\u001b[0;32m    525\u001b[0m         true_values\u001b[39m=\u001b[39;49mtrue_values,\n\u001b[0;32m    526\u001b[0m         false_values\u001b[39m=\u001b[39;49mfalse_values,\n\u001b[0;32m    527\u001b[0m         skiprows\u001b[39m=\u001b[39;49mskiprows,\n\u001b[0;32m    528\u001b[0m         nrows\u001b[39m=\u001b[39;49mnrows,\n\u001b[0;32m    529\u001b[0m         na_values\u001b[39m=\u001b[39;49mna_values,\n\u001b[0;32m    530\u001b[0m         keep_default_na\u001b[39m=\u001b[39;49mkeep_default_na,\n\u001b[0;32m    531\u001b[0m         na_filter\u001b[39m=\u001b[39;49mna_filter,\n\u001b[0;32m    532\u001b[0m         verbose\u001b[39m=\u001b[39;49mverbose,\n\u001b[0;32m    533\u001b[0m         parse_dates\u001b[39m=\u001b[39;49mparse_dates,\n\u001b[0;32m    534\u001b[0m         date_parser\u001b[39m=\u001b[39;49mdate_parser,\n\u001b[0;32m    535\u001b[0m         date_format\u001b[39m=\u001b[39;49mdate_format,\n\u001b[0;32m    536\u001b[0m         thousands\u001b[39m=\u001b[39;49mthousands,\n\u001b[0;32m    537\u001b[0m         decimal\u001b[39m=\u001b[39;49mdecimal,\n\u001b[0;32m    538\u001b[0m         comment\u001b[39m=\u001b[39;49mcomment,\n\u001b[0;32m    539\u001b[0m         skipfooter\u001b[39m=\u001b[39;49mskipfooter,\n\u001b[0;32m    540\u001b[0m         dtype_backend\u001b[39m=\u001b[39;49mdtype_backend,\n\u001b[0;32m    541\u001b[0m     )\n\u001b[0;32m    542\u001b[0m \u001b[39mfinally\u001b[39;00m:\n\u001b[0;32m    543\u001b[0m     \u001b[39m# make sure to close opened file handles\u001b[39;00m\n\u001b[0;32m    544\u001b[0m     \u001b[39mif\u001b[39;00m should_close:\n",
      "File \u001b[1;32mc:\\Users\\mateo\\Documents\\NovoAuto\\NovoAuto\\.venv\\lib\\site-packages\\pandas\\io\\excel\\_base.py:1629\u001b[0m, in \u001b[0;36mExcelFile.parse\u001b[1;34m(self, sheet_name, header, names, index_col, usecols, converters, true_values, false_values, skiprows, nrows, na_values, parse_dates, date_parser, date_format, thousands, comment, skipfooter, dtype_backend, **kwds)\u001b[0m\n\u001b[0;32m   1589\u001b[0m \u001b[39mdef\u001b[39;00m \u001b[39mparse\u001b[39m(\n\u001b[0;32m   1590\u001b[0m     \u001b[39mself\u001b[39m,\n\u001b[0;32m   1591\u001b[0m     sheet_name: \u001b[39mstr\u001b[39m \u001b[39m|\u001b[39m \u001b[39mint\u001b[39m \u001b[39m|\u001b[39m \u001b[39mlist\u001b[39m[\u001b[39mint\u001b[39m] \u001b[39m|\u001b[39m \u001b[39mlist\u001b[39m[\u001b[39mstr\u001b[39m] \u001b[39m|\u001b[39m \u001b[39mNone\u001b[39;00m \u001b[39m=\u001b[39m \u001b[39m0\u001b[39m,\n\u001b[1;32m   (...)\u001b[0m\n\u001b[0;32m   1609\u001b[0m     \u001b[39m*\u001b[39m\u001b[39m*\u001b[39mkwds,\n\u001b[0;32m   1610\u001b[0m ) \u001b[39m-\u001b[39m\u001b[39m>\u001b[39m DataFrame \u001b[39m|\u001b[39m \u001b[39mdict\u001b[39m[\u001b[39mstr\u001b[39m, DataFrame] \u001b[39m|\u001b[39m \u001b[39mdict\u001b[39m[\u001b[39mint\u001b[39m, DataFrame]:\n\u001b[0;32m   1611\u001b[0m \u001b[39m    \u001b[39m\u001b[39m\"\"\"\u001b[39;00m\n\u001b[0;32m   1612\u001b[0m \u001b[39m    Parse specified sheet(s) into a DataFrame.\u001b[39;00m\n\u001b[0;32m   1613\u001b[0m \n\u001b[1;32m   (...)\u001b[0m\n\u001b[0;32m   1627\u001b[0m \u001b[39m    >>> file.parse()  # doctest: +SKIP\u001b[39;00m\n\u001b[0;32m   1628\u001b[0m \u001b[39m    \"\"\"\u001b[39;00m\n\u001b[1;32m-> 1629\u001b[0m     \u001b[39mreturn\u001b[39;00m \u001b[39mself\u001b[39m\u001b[39m.\u001b[39m_reader\u001b[39m.\u001b[39mparse(\n\u001b[0;32m   1630\u001b[0m         sheet_name\u001b[39m=\u001b[39msheet_name,\n\u001b[0;32m   1631\u001b[0m         header\u001b[39m=\u001b[39mheader,\n\u001b[0;32m   1632\u001b[0m         names\u001b[39m=\u001b[39mnames,\n\u001b[0;32m   1633\u001b[0m         index_col\u001b[39m=\u001b[39mindex_col,\n\u001b[0;32m   1634\u001b[0m         usecols\u001b[39m=\u001b[39musecols,\n\u001b[0;32m   1635\u001b[0m         converters\u001b[39m=\u001b[39mconverters,\n\u001b[0;32m   1636\u001b[0m         true_values\u001b[39m=\u001b[39mtrue_values,\n\u001b[0;32m   1637\u001b[0m         false_values\u001b[39m=\u001b[39mfalse_values,\n\u001b[0;32m   1638\u001b[0m         skiprows\u001b[39m=\u001b[39mskiprows,\n\u001b[0;32m   1639\u001b[0m         nrows\u001b[39m=\u001b[39mnrows,\n\u001b[0;32m   1640\u001b[0m         na_values\u001b[39m=\u001b[39mna_values,\n\u001b[0;32m   1641\u001b[0m         parse_dates\u001b[39m=\u001b[39mparse_dates,\n\u001b[0;32m   1642\u001b[0m         date_parser\u001b[39m=\u001b[39mdate_parser,\n\u001b[0;32m   1643\u001b[0m         date_format\u001b[39m=\u001b[39mdate_format,\n\u001b[0;32m   1644\u001b[0m         thousands\u001b[39m=\u001b[39mthousands,\n\u001b[0;32m   1645\u001b[0m         comment\u001b[39m=\u001b[39mcomment,\n\u001b[0;32m   1646\u001b[0m         skipfooter\u001b[39m=\u001b[39mskipfooter,\n\u001b[0;32m   1647\u001b[0m         dtype_backend\u001b[39m=\u001b[39mdtype_backend,\n\u001b[0;32m   1648\u001b[0m         \u001b[39m*\u001b[39m\u001b[39m*\u001b[39mkwds,\n\u001b[0;32m   1649\u001b[0m     )\n",
      "File \u001b[1;32mc:\\Users\\mateo\\Documents\\NovoAuto\\NovoAuto\\.venv\\lib\\site-packages\\pandas\\io\\excel\\_base.py:788\u001b[0m, in \u001b[0;36mBaseExcelReader.parse\u001b[1;34m(self, sheet_name, header, names, index_col, usecols, dtype, true_values, false_values, skiprows, nrows, na_values, verbose, parse_dates, date_parser, date_format, thousands, decimal, comment, skipfooter, dtype_backend, **kwds)\u001b[0m\n\u001b[0;32m    785\u001b[0m     \u001b[39mprint\u001b[39m(\u001b[39mf\u001b[39m\u001b[39m\"\u001b[39m\u001b[39mReading sheet \u001b[39m\u001b[39m{\u001b[39;00masheetname\u001b[39m}\u001b[39;00m\u001b[39m\"\u001b[39m)\n\u001b[0;32m    787\u001b[0m \u001b[39mif\u001b[39;00m \u001b[39misinstance\u001b[39m(asheetname, \u001b[39mstr\u001b[39m):\n\u001b[1;32m--> 788\u001b[0m     sheet \u001b[39m=\u001b[39m \u001b[39mself\u001b[39;49m\u001b[39m.\u001b[39;49mget_sheet_by_name(asheetname)\n\u001b[0;32m    789\u001b[0m \u001b[39melse\u001b[39;00m:  \u001b[39m# assume an integer if not a string\u001b[39;00m\n\u001b[0;32m    790\u001b[0m     sheet \u001b[39m=\u001b[39m \u001b[39mself\u001b[39m\u001b[39m.\u001b[39mget_sheet_by_index(asheetname)\n",
      "File \u001b[1;32mc:\\Users\\mateo\\Documents\\NovoAuto\\NovoAuto\\.venv\\lib\\site-packages\\pandas\\io\\excel\\_openpyxl.py:583\u001b[0m, in \u001b[0;36mOpenpyxlReader.get_sheet_by_name\u001b[1;34m(self, name)\u001b[0m\n\u001b[0;32m    582\u001b[0m \u001b[39mdef\u001b[39;00m \u001b[39mget_sheet_by_name\u001b[39m(\u001b[39mself\u001b[39m, name: \u001b[39mstr\u001b[39m):\n\u001b[1;32m--> 583\u001b[0m     \u001b[39mself\u001b[39;49m\u001b[39m.\u001b[39;49mraise_if_bad_sheet_by_name(name)\n\u001b[0;32m    584\u001b[0m     \u001b[39mreturn\u001b[39;00m \u001b[39mself\u001b[39m\u001b[39m.\u001b[39mbook[name]\n",
      "File \u001b[1;32mc:\\Users\\mateo\\Documents\\NovoAuto\\NovoAuto\\.venv\\lib\\site-packages\\pandas\\io\\excel\\_base.py:639\u001b[0m, in \u001b[0;36mBaseExcelReader.raise_if_bad_sheet_by_name\u001b[1;34m(self, name)\u001b[0m\n\u001b[0;32m    637\u001b[0m \u001b[39mdef\u001b[39;00m \u001b[39mraise_if_bad_sheet_by_name\u001b[39m(\u001b[39mself\u001b[39m, name: \u001b[39mstr\u001b[39m) \u001b[39m-\u001b[39m\u001b[39m>\u001b[39m \u001b[39mNone\u001b[39;00m:\n\u001b[0;32m    638\u001b[0m     \u001b[39mif\u001b[39;00m name \u001b[39mnot\u001b[39;00m \u001b[39min\u001b[39;00m \u001b[39mself\u001b[39m\u001b[39m.\u001b[39msheet_names:\n\u001b[1;32m--> 639\u001b[0m         \u001b[39mraise\u001b[39;00m \u001b[39mValueError\u001b[39;00m(\u001b[39mf\u001b[39m\u001b[39m\"\u001b[39m\u001b[39mWorksheet named \u001b[39m\u001b[39m'\u001b[39m\u001b[39m{\u001b[39;00mname\u001b[39m}\u001b[39;00m\u001b[39m'\u001b[39m\u001b[39m not found\u001b[39m\u001b[39m\"\u001b[39m)\n",
      "\u001b[1;31mValueError\u001b[0m: Worksheet named '' not found"
     ]
    }
   ],
   "source": [
    "QU = pd.read_excel(r'C:\\Users\\mateo\\Documents\\NovoAuto\\NovoAuto\\Input\\QUOTA.xlsx',sheet_name='')\n",
    "QU.columns = QU.columns.map(lambda x: '')\n",
    "customers_name = QU.iloc[:,0]"
   ]
  },
  {
   "cell_type": "code",
   "execution_count": 57,
   "metadata": {},
   "outputs": [
    {
     "data": {
      "text/plain": [
       "0              NaN\n",
       "1              NaN\n",
       "2             Peso\n",
       "3      Dosis (mcg)\n",
       "4              NaN\n",
       "          ...     \n",
       "704             Cx\n",
       "705            AHA\n",
       "706          DFVII\n",
       "707             TG\n",
       "708         Others\n",
       "Name: , Length: 709, dtype: object"
      ]
     },
     "execution_count": 57,
     "metadata": {},
     "output_type": "execute_result"
    }
   ],
   "source": [
    "customers_name"
   ]
  },
  {
   "cell_type": "markdown",
   "metadata": {},
   "source": [
    "### Extraction Customers"
   ]
  },
  {
   "cell_type": "code",
   "execution_count": 58,
   "metadata": {},
   "outputs": [],
   "source": [
    "customs = []\n",
    "rangos = []\n",
    "for i in range(246,580,11):\n",
    "    rango = slice(i+1,i+10)\n",
    "    rangos.append(rango)\n",
    "    customs.append(customers_name[i])\n",
    "for i in range(587,616):\n",
    "    customs.append(customers_name[i])\n",
    "customs = [x for x in customs if customs.count(x) == 1] \n",
    "customers = {custom: rango for custom, rango in zip(customs, rangos)}"
   ]
  },
  {
   "cell_type": "code",
   "execution_count": 59,
   "metadata": {},
   "outputs": [
    {
     "data": {
      "text/plain": [
       "{'DROGUERIAS CRUZ VERDE S A S': slice(247, 256, None),\n",
       " 'AUDIFARMA S.A.': slice(258, 267, None),\n",
       " 'ORGANIZACION VIHONCO IPS SOCIEDAD': slice(269, 278, None),\n",
       " 'ORGANIZACIÓN CLINICA GENERAL DEL NORTE': slice(280, 289, None),\n",
       " 'INTEGRAL SOLUTIONS SD S.A.S.': slice(291, 300, None),\n",
       " 'COSMITET LTDA': slice(302, 311, None),\n",
       " 'COLSUBSIDIO': slice(313, 322, None),\n",
       " 'FUNDACIÓN HOSPITAL LA MISERICORDIA': slice(324, 333, None),\n",
       " 'HOSPITAL PABLO TOBON URIBE': slice(335, 344, None),\n",
       " 'MEDICINA INTEGRAL/ALIANZA F.': slice(346, 355, None),\n",
       " 'FUNDACION SOCIAL PARA PROMOCION': slice(357, 366, None),\n",
       " 'COOPERATIVA DE HOSPITALES DE': slice(368, 377, None),\n",
       " 'CENTRO MEDICO IMBANACO DE CALI S.A.': slice(379, 388, None),\n",
       " 'CAJA DE COMPENSACION FAMILIAR DE': slice(390, 399, None),\n",
       " 'FUNDACION HOSPITAL SAN VICENTE DE PAUL ': slice(401, 410, None),\n",
       " 'SALUD LLANOS IPS LTDA': slice(412, 421, None),\n",
       " 'SOCIEDAD INVERSIONES FARMEDICALL': slice(423, 432, None),\n",
       " 'COMFAMILIAR RISARALDA': slice(434, 443, None),\n",
       " 'COBO MEDICAL S A S': slice(445, 454, None),\n",
       " 'HEMATOLOGIA Y ONCOLOGIA DEL ORIENTE': slice(456, 465, None),\n",
       " 'DDS PHARMA': slice(467, 476, None),\n",
       " 'UNIDAD HEMATOLOGICA DE CUCUTA': slice(478, 487, None),\n",
       " 'SALAMANCA RAFAEL ANTONIO- MEDERI': slice(489, 498, None),\n",
       " 'GRUPO AFIN FARMACEUTICA S.A.S.': slice(500, 509, None),\n",
       " 'CAJA DE COMPENSACION FAMILIAR CAFAM': slice(511, 520, None),\n",
       " 'COLQUIMICOS S A': slice(522, 531, None),\n",
       " 'DISFARMA GC SAS': slice(533, 542, None),\n",
       " 'FUERTES MEJIA YANETH PATRICIA': slice(544, 553, None),\n",
       " 'RAMEDICAS S.A.S.': slice(555, 564, None),\n",
       " 'SUMINISTROS Y DOTACIONES': slice(566, 575, None),\n",
       " 'MEDICAMENTOS ESPECIALIZADOS S.A.S.': slice(577, 586, None)}"
      ]
     },
     "execution_count": 59,
     "metadata": {},
     "output_type": "execute_result"
    }
   ],
   "source": [
    "customers"
   ]
  },
  {
   "cell_type": "markdown",
   "metadata": {},
   "source": [
    "### Extraction use_type"
   ]
  },
  {
   "cell_type": "code",
   "execution_count": 51,
   "metadata": {},
   "outputs": [],
   "source": [
    "use_type= list(QU.iloc[247:256,0])"
   ]
  },
  {
   "cell_type": "markdown",
   "metadata": {},
   "source": [
    "### Dates"
   ]
  },
  {
   "cell_type": "code",
   "execution_count": 53,
   "metadata": {},
   "outputs": [],
   "source": [
    "date_spec = []\n",
    "for a in range(2022,2028):\n",
    "    for m in range(1,13):\n",
    "        if m < 10:\n",
    "            date = '01' + '/' + '0' + str(m) + '/' + str(a)\n",
    "            date_spec.append(date)\n",
    "        else:\n",
    "            date = '01' + '/' +  str(m) + '/' + str(a)\n",
    "            date_spec.append(date)"
   ]
  },
  {
   "cell_type": "markdown",
   "metadata": {},
   "source": [
    "### Generate of tables"
   ]
  },
  {
   "cell_type": "code",
   "execution_count": 54,
   "metadata": {},
   "outputs": [],
   "source": [
    "combinaciones = [(cliente, dates, ut) for cliente in customs for dates in date_spec for ut in use_type]\n",
    "ab_output = pd.DataFrame(combinaciones, columns=['customer_name','date_spec','use_type'])"
   ]
  },
  {
   "cell_type": "markdown",
   "metadata": {},
   "source": [
    "### Target Date"
   ]
  },
  {
   "cell_type": "code",
   "execution_count": 90,
   "metadata": {},
   "outputs": [],
   "source": [
    "years = {\n",
    "  '22' : slice(40,52),\n",
    "  '23' : slice(53,65),\n",
    "  '24' : slice(66,78),\n",
    "  '25' : slice(79,91),\n",
    "  '26' : slice(92,104),\n",
    "  '27' : slice(105,117)  \n",
    "  }  "
   ]
  },
  {
   "cell_type": "markdown",
   "metadata": {},
   "source": [
    "### Add Volume"
   ]
  },
  {
   "cell_type": "code",
   "execution_count": 110,
   "metadata": {},
   "outputs": [],
   "source": [
    "ab_report = []\n",
    "for custom in customers:\n",
    "    ab_volumenes = []\n",
    "    ab_volume = []\n",
    "\n",
    "    for year in years:\n",
    "        ab_volumenes.append(QU.iloc[customers[custom],years[year]])\n",
    "    ab_volumenes = pd.concat(ab_volumenes, ignore_index=True)\n",
    "    ab_volumenes.columns = columna=['01','02','03','04','05','06','07','08','09','10','11','12']\n",
    "    data = ab_output.loc[ab_output['customer_name'] == custom].reset_index(drop=True)\n",
    "    for columna in ab_volumenes.columns:\n",
    "        for valor in ab_volumenes[columna]:\n",
    "            ab_volume.append(valor)\n",
    "    data.loc[:, 'volume'] = pd.DataFrame(ab_volume)\n",
    "    ab_report.append(data)\n",
    "ab_report = pd.concat(ab_report, ignore_index=True)\n",
    "ab_report['brand_name'] = 'N7'\n",
    "ab_report['uom_code'] = 'MG'\n",
    "ab_report['sales_rep_code'] = 'null'\n",
    "ab_report['region_name'] = 'null'\n",
    "ab_report = ab_report[['date_spec','sales_rep_code','region_name','customer_name', 'use_type','volume','brand_name','uom_code']]"
   ]
  },
  {
   "cell_type": "code",
   "execution_count": 111,
   "metadata": {},
   "outputs": [
    {
     "data": {
      "text/html": [
       "<div>\n",
       "<style scoped>\n",
       "    .dataframe tbody tr th:only-of-type {\n",
       "        vertical-align: middle;\n",
       "    }\n",
       "\n",
       "    .dataframe tbody tr th {\n",
       "        vertical-align: top;\n",
       "    }\n",
       "\n",
       "    .dataframe thead th {\n",
       "        text-align: right;\n",
       "    }\n",
       "</style>\n",
       "<table border=\"1\" class=\"dataframe\">\n",
       "  <thead>\n",
       "    <tr style=\"text-align: right;\">\n",
       "      <th></th>\n",
       "      <th>date_spec</th>\n",
       "      <th>sales_rep_code</th>\n",
       "      <th>region_name</th>\n",
       "      <th>customer_name</th>\n",
       "      <th>use_type</th>\n",
       "      <th>volume</th>\n",
       "      <th>brand_name</th>\n",
       "      <th>uom_code</th>\n",
       "    </tr>\n",
       "  </thead>\n",
       "  <tbody>\n",
       "    <tr>\n",
       "      <th>0</th>\n",
       "      <td>01/01/2022</td>\n",
       "      <td>null</td>\n",
       "      <td>null</td>\n",
       "      <td>DROGUERIAS CRUZ VERDE S A S</td>\n",
       "      <td>CHWI A PPX</td>\n",
       "      <td>130</td>\n",
       "      <td>N7</td>\n",
       "      <td>MG</td>\n",
       "    </tr>\n",
       "    <tr>\n",
       "      <th>1</th>\n",
       "      <td>01/01/2022</td>\n",
       "      <td>null</td>\n",
       "      <td>null</td>\n",
       "      <td>DROGUERIAS CRUZ VERDE S A S</td>\n",
       "      <td>CHWI B PPX</td>\n",
       "      <td>222</td>\n",
       "      <td>N7</td>\n",
       "      <td>MG</td>\n",
       "    </tr>\n",
       "    <tr>\n",
       "      <th>2</th>\n",
       "      <td>01/01/2022</td>\n",
       "      <td>null</td>\n",
       "      <td>null</td>\n",
       "      <td>DROGUERIAS CRUZ VERDE S A S</td>\n",
       "      <td>CHWI A OD</td>\n",
       "      <td>0</td>\n",
       "      <td>N7</td>\n",
       "      <td>MG</td>\n",
       "    </tr>\n",
       "    <tr>\n",
       "      <th>3</th>\n",
       "      <td>01/01/2022</td>\n",
       "      <td>null</td>\n",
       "      <td>null</td>\n",
       "      <td>DROGUERIAS CRUZ VERDE S A S</td>\n",
       "      <td>CHWI B OD</td>\n",
       "      <td>180</td>\n",
       "      <td>N7</td>\n",
       "      <td>MG</td>\n",
       "    </tr>\n",
       "    <tr>\n",
       "      <th>4</th>\n",
       "      <td>01/01/2022</td>\n",
       "      <td>null</td>\n",
       "      <td>null</td>\n",
       "      <td>DROGUERIAS CRUZ VERDE S A S</td>\n",
       "      <td>CHWI CX</td>\n",
       "      <td>NaN</td>\n",
       "      <td>N7</td>\n",
       "      <td>MG</td>\n",
       "    </tr>\n",
       "    <tr>\n",
       "      <th>...</th>\n",
       "      <td>...</td>\n",
       "      <td>...</td>\n",
       "      <td>...</td>\n",
       "      <td>...</td>\n",
       "      <td>...</td>\n",
       "      <td>...</td>\n",
       "      <td>...</td>\n",
       "      <td>...</td>\n",
       "    </tr>\n",
       "    <tr>\n",
       "      <th>20083</th>\n",
       "      <td>01/12/2027</td>\n",
       "      <td>null</td>\n",
       "      <td>null</td>\n",
       "      <td>MEDICAMENTOS ESPECIALIZADOS S.A.S.</td>\n",
       "      <td>CHWI CX</td>\n",
       "      <td>NaN</td>\n",
       "      <td>N7</td>\n",
       "      <td>MG</td>\n",
       "    </tr>\n",
       "    <tr>\n",
       "      <th>20084</th>\n",
       "      <td>01/12/2027</td>\n",
       "      <td>null</td>\n",
       "      <td>null</td>\n",
       "      <td>MEDICAMENTOS ESPECIALIZADOS S.A.S.</td>\n",
       "      <td>TG</td>\n",
       "      <td>NaN</td>\n",
       "      <td>N7</td>\n",
       "      <td>MG</td>\n",
       "    </tr>\n",
       "    <tr>\n",
       "      <th>20085</th>\n",
       "      <td>01/12/2027</td>\n",
       "      <td>null</td>\n",
       "      <td>null</td>\n",
       "      <td>MEDICAMENTOS ESPECIALIZADOS S.A.S.</td>\n",
       "      <td>HA</td>\n",
       "      <td>NaN</td>\n",
       "      <td>N7</td>\n",
       "      <td>MG</td>\n",
       "    </tr>\n",
       "    <tr>\n",
       "      <th>20086</th>\n",
       "      <td>01/12/2027</td>\n",
       "      <td>null</td>\n",
       "      <td>null</td>\n",
       "      <td>MEDICAMENTOS ESPECIALIZADOS S.A.S.</td>\n",
       "      <td>DFVII</td>\n",
       "      <td>NaN</td>\n",
       "      <td>N7</td>\n",
       "      <td>MG</td>\n",
       "    </tr>\n",
       "    <tr>\n",
       "      <th>20087</th>\n",
       "      <td>01/12/2027</td>\n",
       "      <td>null</td>\n",
       "      <td>null</td>\n",
       "      <td>MEDICAMENTOS ESPECIALIZADOS S.A.S.</td>\n",
       "      <td>OTHER</td>\n",
       "      <td>NaN</td>\n",
       "      <td>N7</td>\n",
       "      <td>MG</td>\n",
       "    </tr>\n",
       "  </tbody>\n",
       "</table>\n",
       "<p>20088 rows × 8 columns</p>\n",
       "</div>"
      ],
      "text/plain": [
       "        date_spec sales_rep_code region_name  \\\n",
       "0      01/01/2022           null        null   \n",
       "1      01/01/2022           null        null   \n",
       "2      01/01/2022           null        null   \n",
       "3      01/01/2022           null        null   \n",
       "4      01/01/2022           null        null   \n",
       "...           ...            ...         ...   \n",
       "20083  01/12/2027           null        null   \n",
       "20084  01/12/2027           null        null   \n",
       "20085  01/12/2027           null        null   \n",
       "20086  01/12/2027           null        null   \n",
       "20087  01/12/2027           null        null   \n",
       "\n",
       "                            customer_name    use_type volume brand_name  \\\n",
       "0             DROGUERIAS CRUZ VERDE S A S  CHWI A PPX    130         N7   \n",
       "1             DROGUERIAS CRUZ VERDE S A S  CHWI B PPX    222         N7   \n",
       "2             DROGUERIAS CRUZ VERDE S A S   CHWI A OD      0         N7   \n",
       "3             DROGUERIAS CRUZ VERDE S A S   CHWI B OD    180         N7   \n",
       "4             DROGUERIAS CRUZ VERDE S A S     CHWI CX    NaN         N7   \n",
       "...                                   ...         ...    ...        ...   \n",
       "20083  MEDICAMENTOS ESPECIALIZADOS S.A.S.     CHWI CX    NaN         N7   \n",
       "20084  MEDICAMENTOS ESPECIALIZADOS S.A.S.          TG    NaN         N7   \n",
       "20085  MEDICAMENTOS ESPECIALIZADOS S.A.S.          HA    NaN         N7   \n",
       "20086  MEDICAMENTOS ESPECIALIZADOS S.A.S.       DFVII    NaN         N7   \n",
       "20087  MEDICAMENTOS ESPECIALIZADOS S.A.S.       OTHER    NaN         N7   \n",
       "\n",
       "      uom_code  \n",
       "0           MG  \n",
       "1           MG  \n",
       "2           MG  \n",
       "3           MG  \n",
       "4           MG  \n",
       "...        ...  \n",
       "20083       MG  \n",
       "20084       MG  \n",
       "20085       MG  \n",
       "20086       MG  \n",
       "20087       MG  \n",
       "\n",
       "[20088 rows x 8 columns]"
      ]
     },
     "execution_count": 111,
     "metadata": {},
     "output_type": "execute_result"
    }
   ],
   "source": [
    "ab_report"
   ]
  }
 ],
 "metadata": {
  "kernelspec": {
   "display_name": "novoenv",
   "language": "python",
   "name": "python3"
  },
  "language_info": {
   "codemirror_mode": {
    "name": "ipython",
    "version": 3
   },
   "file_extension": ".py",
   "mimetype": "text/x-python",
   "name": "python",
   "nbconvert_exporter": "python",
   "pygments_lexer": "ipython3",
   "version": "3.10.11"
  },
  "orig_nbformat": 4
 },
 "nbformat": 4,
 "nbformat_minor": 2
}
