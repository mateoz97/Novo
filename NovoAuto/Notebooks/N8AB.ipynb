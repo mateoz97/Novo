{
 "cells": [
  {
   "cell_type": "markdown",
   "metadata": {},
   "source": [
    "### Import Libery for develop\n",
    "this section allow load everything dependence for develop the\n",
    "automate scrip and change all template AB/RE and Quotas. for this one\n",
    "it's need to get files with templates before to start. for every file\n",
    "it contein with 2 sheets.\n",
    "- NovoSeven\n",
    "- NovoEight"
   ]
  },
  {
   "cell_type": "code",
   "execution_count": 83,
   "metadata": {},
   "outputs": [],
   "source": [
    "import pandas as pd\n",
    "import numpy as np"
   ]
  },
  {
   "cell_type": "markdown",
   "metadata": {},
   "source": [
    "# N8 AB"
   ]
  },
  {
   "cell_type": "code",
   "execution_count": 84,
   "metadata": {},
   "outputs": [],
   "source": [
    "AB = pd.read_csv(r'C:\\Users\\mateo\\Documents\\NovoAuto\\NovoAuto\\Input\\N8AB.csv')\n",
    "AB.columns = AB.columns.map(lambda x: '')\n",
    "customers_name = AB.iloc[:,2]"
   ]
  },
  {
   "cell_type": "markdown",
   "metadata": {},
   "source": [
    "### Extraction Customers"
   ]
  },
  {
   "cell_type": "code",
   "execution_count": 98,
   "metadata": {},
   "outputs": [],
   "source": [
    "customs = []\n",
    "rangos = []\n",
    "for i in range(126,157):\n",
    "    rangos.append(i)\n",
    "    customs.append(customers_name[i])\n",
    "customs = [x for x in customs if customs.count(x) == 1] \n",
    "customers = {custom: rango for custom, rango in zip(customs, rangos)}"
   ]
  },
  {
   "cell_type": "code",
   "execution_count": 115,
   "metadata": {},
   "outputs": [
    {
     "data": {
      "text/plain": [
       "{'ORGANIZACION VIHONCO IPS SOCIEDAD': 126,\n",
       " 'FUNDACION SOCIAL PARA PROMOCION DE LA VIDA': 127,\n",
       " 'AUDIFARMA S.A.': 128,\n",
       " 'DROGUERIAS CRUZ VERDE S A S': 129,\n",
       " 'CENTRO MEDICO IMBANACO DE CALI S.A.': 130,\n",
       " 'INTEGRAL SOLUTIONS SD S.A.S.': 131,\n",
       " 'ALIANZA FARMACEUTICA': 132,\n",
       " 'OCGN': 133,\n",
       " 'JERSALUD': 134,\n",
       " 'COHAN': 135,\n",
       " 'TODO DROGAS': 136,\n",
       " 'SOCIEDAD INVERSIONES FARMEDICALL': 137,\n",
       " 'CENTRO HEMATOLOGICO DE CUCUTA': 138,\n",
       " 'HEMATOLOGIA Y ONCOLOGIA DEL ORIENTE ': 139,\n",
       " 'IPS LLANO': 140,\n",
       " 'OASIS / RAMEDICAS': 141,\n",
       " 'SOLINSA G.C. S.A.S. (DISFARMA)': 142,\n",
       " 'GRUPO R&G S.A.S. / HOSP HUV': 143,\n",
       " 'DDS PHARMA': 144,\n",
       " 'EVE DISTRIBUCIONES S.A.S.': 145,\n",
       " 'CAFAM': 146,\n",
       " 'DEPOSITO DE DROGAS MONACO S.A.': 147,\n",
       " 'COLQUIMICOS S A': 148,\n",
       " 'CLINICA LA AURORA': 149,\n",
       " 'LA ESTANCIA': 150,\n",
       " 'MEDEX': 151,\n",
       " 'GRUPO AFIN FARMACEUTICA S.A.S.': 152}"
      ]
     },
     "execution_count": 115,
     "metadata": {},
     "output_type": "execute_result"
    }
   ],
   "source": [
    "customers"
   ]
  },
  {
   "cell_type": "markdown",
   "metadata": {},
   "source": [
    "### Dates"
   ]
  },
  {
   "cell_type": "code",
   "execution_count": 99,
   "metadata": {},
   "outputs": [],
   "source": [
    "date_spec = []\n",
    "for a in range(2022,2027):\n",
    "    for m in range(1,13):\n",
    "        if m < 10:\n",
    "            date = '01' + '/' + '0' + str(m) + '/' + str(a)\n",
    "            date_spec.append(date)\n",
    "        else:\n",
    "            date = '01' + '/' +  str(m) + '/' + str(a)\n",
    "            date_spec.append(date)"
   ]
  },
  {
   "cell_type": "markdown",
   "metadata": {},
   "source": [
    "### Generate of tables"
   ]
  },
  {
   "cell_type": "code",
   "execution_count": 100,
   "metadata": {},
   "outputs": [],
   "source": [
    "combinaciones = [(cliente, dates) for cliente in customs for dates in date_spec]\n",
    "ab_output = pd.DataFrame(combinaciones, columns=['customer_name','date_spec'])"
   ]
  },
  {
   "cell_type": "markdown",
   "metadata": {},
   "source": [
    "### Target Date"
   ]
  },
  {
   "cell_type": "code",
   "execution_count": 101,
   "metadata": {},
   "outputs": [],
   "source": [
    "years = {\n",
    "  '22' : slice(16,28),\n",
    "  '23' : slice(29,41),\n",
    "  '24' : slice(42,54),\n",
    "  '25' : slice(56,68),\n",
    "  '26' : slice(92,104)\n",
    "  }  "
   ]
  },
  {
   "cell_type": "markdown",
   "metadata": {},
   "source": [
    "### Add Volume"
   ]
  },
  {
   "cell_type": "code",
   "execution_count": 148,
   "metadata": {},
   "outputs": [
    {
     "name": "stderr",
     "output_type": "stream",
     "text": [
      "C:\\Users\\mateo\\AppData\\Local\\Temp\\ipykernel_22284\\1665248753.py:11: FutureWarning: Setting an item of incompatible dtype is deprecated and will raise in a future error of pandas. Value ' 2,359,440 ' has dtype incompatible with float64, please explicitly cast to a compatible dtype first.\n",
      "  data.loc[row_indexer, 'volume'] = value\n",
      "C:\\Users\\mateo\\AppData\\Local\\Temp\\ipykernel_22284\\1665248753.py:11: FutureWarning: Setting an item of incompatible dtype is deprecated and will raise in a future error of pandas. Value ' 33,360 ' has dtype incompatible with float64, please explicitly cast to a compatible dtype first.\n",
      "  data.loc[row_indexer, 'volume'] = value\n",
      "C:\\Users\\mateo\\AppData\\Local\\Temp\\ipykernel_22284\\1665248753.py:11: FutureWarning: Setting an item of incompatible dtype is deprecated and will raise in a future error of pandas. Value ' 366,120 ' has dtype incompatible with float64, please explicitly cast to a compatible dtype first.\n",
      "  data.loc[row_indexer, 'volume'] = value\n",
      "C:\\Users\\mateo\\AppData\\Local\\Temp\\ipykernel_22284\\1665248753.py:11: FutureWarning: Setting an item of incompatible dtype is deprecated and will raise in a future error of pandas. Value ' 264,420 ' has dtype incompatible with float64, please explicitly cast to a compatible dtype first.\n",
      "  data.loc[row_indexer, 'volume'] = value\n",
      "C:\\Users\\mateo\\AppData\\Local\\Temp\\ipykernel_22284\\1665248753.py:11: FutureWarning: Setting an item of incompatible dtype is deprecated and will raise in a future error of pandas. Value ' 406,800 ' has dtype incompatible with float64, please explicitly cast to a compatible dtype first.\n",
      "  data.loc[row_indexer, 'volume'] = value\n",
      "C:\\Users\\mateo\\AppData\\Local\\Temp\\ipykernel_22284\\1665248753.py:11: FutureWarning: Setting an item of incompatible dtype is deprecated and will raise in a future error of pandas. Value ' 203,400 ' has dtype incompatible with float64, please explicitly cast to a compatible dtype first.\n",
      "  data.loc[row_indexer, 'volume'] = value\n",
      "C:\\Users\\mateo\\AppData\\Local\\Temp\\ipykernel_22284\\1665248753.py:11: FutureWarning: Setting an item of incompatible dtype is deprecated and will raise in a future error of pandas. Value ' 129,159 ' has dtype incompatible with float64, please explicitly cast to a compatible dtype first.\n",
      "  data.loc[row_indexer, 'volume'] = value\n",
      "C:\\Users\\mateo\\AppData\\Local\\Temp\\ipykernel_22284\\1665248753.py:11: FutureWarning: Setting an item of incompatible dtype is deprecated and will raise in a future error of pandas. Value ' 50,850 ' has dtype incompatible with float64, please explicitly cast to a compatible dtype first.\n",
      "  data.loc[row_indexer, 'volume'] = value\n",
      "C:\\Users\\mateo\\AppData\\Local\\Temp\\ipykernel_22284\\1665248753.py:11: FutureWarning: Setting an item of incompatible dtype is deprecated and will raise in a future error of pandas. Value ' 27,340 ' has dtype incompatible with float64, please explicitly cast to a compatible dtype first.\n",
      "  data.loc[row_indexer, 'volume'] = value\n",
      "C:\\Users\\mateo\\AppData\\Local\\Temp\\ipykernel_22284\\1665248753.py:11: FutureWarning: Setting an item of incompatible dtype is deprecated and will raise in a future error of pandas. Value ' - ' has dtype incompatible with float64, please explicitly cast to a compatible dtype first.\n",
      "  data.loc[row_indexer, 'volume'] = value\n",
      "C:\\Users\\mateo\\AppData\\Local\\Temp\\ipykernel_22284\\1665248753.py:11: FutureWarning: Setting an item of incompatible dtype is deprecated and will raise in a future error of pandas. Value ' - ' has dtype incompatible with float64, please explicitly cast to a compatible dtype first.\n",
      "  data.loc[row_indexer, 'volume'] = value\n",
      "C:\\Users\\mateo\\AppData\\Local\\Temp\\ipykernel_22284\\1665248753.py:11: FutureWarning: Setting an item of incompatible dtype is deprecated and will raise in a future error of pandas. Value ' - ' has dtype incompatible with float64, please explicitly cast to a compatible dtype first.\n",
      "  data.loc[row_indexer, 'volume'] = value\n",
      "C:\\Users\\mateo\\AppData\\Local\\Temp\\ipykernel_22284\\1665248753.py:11: FutureWarning: Setting an item of incompatible dtype is deprecated and will raise in a future error of pandas. Value ' 40,680 ' has dtype incompatible with float64, please explicitly cast to a compatible dtype first.\n",
      "  data.loc[row_indexer, 'volume'] = value\n",
      "C:\\Users\\mateo\\AppData\\Local\\Temp\\ipykernel_22284\\1665248753.py:11: FutureWarning: Setting an item of incompatible dtype is deprecated and will raise in a future error of pandas. Value ' - ' has dtype incompatible with float64, please explicitly cast to a compatible dtype first.\n",
      "  data.loc[row_indexer, 'volume'] = value\n",
      "C:\\Users\\mateo\\AppData\\Local\\Temp\\ipykernel_22284\\1665248753.py:11: FutureWarning: Setting an item of incompatible dtype is deprecated and will raise in a future error of pandas. Value ' - ' has dtype incompatible with float64, please explicitly cast to a compatible dtype first.\n",
      "  data.loc[row_indexer, 'volume'] = value\n",
      "C:\\Users\\mateo\\AppData\\Local\\Temp\\ipykernel_22284\\1665248753.py:11: FutureWarning: Setting an item of incompatible dtype is deprecated and will raise in a future error of pandas. Value ' - ' has dtype incompatible with float64, please explicitly cast to a compatible dtype first.\n",
      "  data.loc[row_indexer, 'volume'] = value\n",
      "C:\\Users\\mateo\\AppData\\Local\\Temp\\ipykernel_22284\\1665248753.py:11: FutureWarning: Setting an item of incompatible dtype is deprecated and will raise in a future error of pandas. Value ' - ' has dtype incompatible with float64, please explicitly cast to a compatible dtype first.\n",
      "  data.loc[row_indexer, 'volume'] = value\n",
      "C:\\Users\\mateo\\AppData\\Local\\Temp\\ipykernel_22284\\1665248753.py:11: FutureWarning: Setting an item of incompatible dtype is deprecated and will raise in a future error of pandas. Value ' - ' has dtype incompatible with float64, please explicitly cast to a compatible dtype first.\n",
      "  data.loc[row_indexer, 'volume'] = value\n",
      "C:\\Users\\mateo\\AppData\\Local\\Temp\\ipykernel_22284\\1665248753.py:11: FutureWarning: Setting an item of incompatible dtype is deprecated and will raise in a future error of pandas. Value ' - ' has dtype incompatible with float64, please explicitly cast to a compatible dtype first.\n",
      "  data.loc[row_indexer, 'volume'] = value\n",
      "C:\\Users\\mateo\\AppData\\Local\\Temp\\ipykernel_22284\\1665248753.py:11: FutureWarning: Setting an item of incompatible dtype is deprecated and will raise in a future error of pandas. Value ' - ' has dtype incompatible with float64, please explicitly cast to a compatible dtype first.\n",
      "  data.loc[row_indexer, 'volume'] = value\n",
      "C:\\Users\\mateo\\AppData\\Local\\Temp\\ipykernel_22284\\1665248753.py:11: FutureWarning: Setting an item of incompatible dtype is deprecated and will raise in a future error of pandas. Value ' - ' has dtype incompatible with float64, please explicitly cast to a compatible dtype first.\n",
      "  data.loc[row_indexer, 'volume'] = value\n",
      "C:\\Users\\mateo\\AppData\\Local\\Temp\\ipykernel_22284\\1665248753.py:11: FutureWarning: Setting an item of incompatible dtype is deprecated and will raise in a future error of pandas. Value ' - ' has dtype incompatible with float64, please explicitly cast to a compatible dtype first.\n",
      "  data.loc[row_indexer, 'volume'] = value\n",
      "C:\\Users\\mateo\\AppData\\Local\\Temp\\ipykernel_22284\\1665248753.py:11: FutureWarning: Setting an item of incompatible dtype is deprecated and will raise in a future error of pandas. Value ' - ' has dtype incompatible with float64, please explicitly cast to a compatible dtype first.\n",
      "  data.loc[row_indexer, 'volume'] = value\n",
      "C:\\Users\\mateo\\AppData\\Local\\Temp\\ipykernel_22284\\1665248753.py:11: FutureWarning: Setting an item of incompatible dtype is deprecated and will raise in a future error of pandas. Value ' - ' has dtype incompatible with float64, please explicitly cast to a compatible dtype first.\n",
      "  data.loc[row_indexer, 'volume'] = value\n",
      "C:\\Users\\mateo\\AppData\\Local\\Temp\\ipykernel_22284\\1665248753.py:11: FutureWarning: Setting an item of incompatible dtype is deprecated and will raise in a future error of pandas. Value ' - ' has dtype incompatible with float64, please explicitly cast to a compatible dtype first.\n",
      "  data.loc[row_indexer, 'volume'] = value\n",
      "C:\\Users\\mateo\\AppData\\Local\\Temp\\ipykernel_22284\\1665248753.py:11: FutureWarning: Setting an item of incompatible dtype is deprecated and will raise in a future error of pandas. Value ' - ' has dtype incompatible with float64, please explicitly cast to a compatible dtype first.\n",
      "  data.loc[row_indexer, 'volume'] = value\n"
     ]
    }
   ],
   "source": [
    "volumenes = {}\n",
    "datas = []\n",
    "for custom in customers:\n",
    "    datayear = []\n",
    "    for year in years:\n",
    "        datayear.append(AB.iloc[customers[custom],years[year]])\n",
    "    volumenes[custom] = datayear\n",
    "    report = pd.concat(volumenes[custom],ignore_index=True)\n",
    "    data = ab_output.loc[ab_output['customer_name'] == custom].reset_index(drop=True)\n",
    "    for row_indexer, value in enumerate(report):\n",
    "        data.loc[row_indexer, 'volume'] = value\n",
    "    datas.append(data)\n",
    "datas = pd.concat(datas,ignore_index=True)\n",
    "datas['use_type'] = 'null'\n",
    "datas['brand_name'] = 'N8'\n",
    "datas['uom_code'] = 'UI'\n",
    "datas['version_type'] = 'AB'\n",
    "datas = datas[['customer_name', 'date_spec', 'use_type','volume','brand_name','uom_code','version_type']]"
   ]
  },
  {
   "cell_type": "code",
   "execution_count": 149,
   "metadata": {},
   "outputs": [
    {
     "data": {
      "text/html": [
       "<div>\n",
       "<style scoped>\n",
       "    .dataframe tbody tr th:only-of-type {\n",
       "        vertical-align: middle;\n",
       "    }\n",
       "\n",
       "    .dataframe tbody tr th {\n",
       "        vertical-align: top;\n",
       "    }\n",
       "\n",
       "    .dataframe thead th {\n",
       "        text-align: right;\n",
       "    }\n",
       "</style>\n",
       "<table border=\"1\" class=\"dataframe\">\n",
       "  <thead>\n",
       "    <tr style=\"text-align: right;\">\n",
       "      <th></th>\n",
       "      <th>customer_name</th>\n",
       "      <th>date_spec</th>\n",
       "      <th>use_type</th>\n",
       "      <th>volume</th>\n",
       "      <th>brand_name</th>\n",
       "      <th>uom_code</th>\n",
       "      <th>version_type</th>\n",
       "    </tr>\n",
       "  </thead>\n",
       "  <tbody>\n",
       "    <tr>\n",
       "      <th>0</th>\n",
       "      <td>ORGANIZACION VIHONCO IPS SOCIEDAD</td>\n",
       "      <td>01/01/2022</td>\n",
       "      <td>null</td>\n",
       "      <td>2,359,440</td>\n",
       "      <td>N8</td>\n",
       "      <td>UI</td>\n",
       "      <td>AB</td>\n",
       "    </tr>\n",
       "    <tr>\n",
       "      <th>1</th>\n",
       "      <td>ORGANIZACION VIHONCO IPS SOCIEDAD</td>\n",
       "      <td>01/02/2022</td>\n",
       "      <td>null</td>\n",
       "      <td>2,339,100</td>\n",
       "      <td>N8</td>\n",
       "      <td>UI</td>\n",
       "      <td>AB</td>\n",
       "    </tr>\n",
       "    <tr>\n",
       "      <th>2</th>\n",
       "      <td>ORGANIZACION VIHONCO IPS SOCIEDAD</td>\n",
       "      <td>01/03/2022</td>\n",
       "      <td>null</td>\n",
       "      <td>2,339,100</td>\n",
       "      <td>N8</td>\n",
       "      <td>UI</td>\n",
       "      <td>AB</td>\n",
       "    </tr>\n",
       "    <tr>\n",
       "      <th>3</th>\n",
       "      <td>ORGANIZACION VIHONCO IPS SOCIEDAD</td>\n",
       "      <td>01/04/2022</td>\n",
       "      <td>null</td>\n",
       "      <td>2,318,760</td>\n",
       "      <td>N8</td>\n",
       "      <td>UI</td>\n",
       "      <td>AB</td>\n",
       "    </tr>\n",
       "    <tr>\n",
       "      <th>4</th>\n",
       "      <td>ORGANIZACION VIHONCO IPS SOCIEDAD</td>\n",
       "      <td>01/05/2022</td>\n",
       "      <td>null</td>\n",
       "      <td>2,318,760</td>\n",
       "      <td>N8</td>\n",
       "      <td>UI</td>\n",
       "      <td>AB</td>\n",
       "    </tr>\n",
       "    <tr>\n",
       "      <th>...</th>\n",
       "      <td>...</td>\n",
       "      <td>...</td>\n",
       "      <td>...</td>\n",
       "      <td>...</td>\n",
       "      <td>...</td>\n",
       "      <td>...</td>\n",
       "      <td>...</td>\n",
       "    </tr>\n",
       "    <tr>\n",
       "      <th>1615</th>\n",
       "      <td>GRUPO AFIN FARMACEUTICA S.A.S.</td>\n",
       "      <td>01/08/2026</td>\n",
       "      <td>null</td>\n",
       "      <td>NaN</td>\n",
       "      <td>N8</td>\n",
       "      <td>UI</td>\n",
       "      <td>AB</td>\n",
       "    </tr>\n",
       "    <tr>\n",
       "      <th>1616</th>\n",
       "      <td>GRUPO AFIN FARMACEUTICA S.A.S.</td>\n",
       "      <td>01/09/2026</td>\n",
       "      <td>null</td>\n",
       "      <td>NaN</td>\n",
       "      <td>N8</td>\n",
       "      <td>UI</td>\n",
       "      <td>AB</td>\n",
       "    </tr>\n",
       "    <tr>\n",
       "      <th>1617</th>\n",
       "      <td>GRUPO AFIN FARMACEUTICA S.A.S.</td>\n",
       "      <td>01/10/2026</td>\n",
       "      <td>null</td>\n",
       "      <td>NaN</td>\n",
       "      <td>N8</td>\n",
       "      <td>UI</td>\n",
       "      <td>AB</td>\n",
       "    </tr>\n",
       "    <tr>\n",
       "      <th>1618</th>\n",
       "      <td>GRUPO AFIN FARMACEUTICA S.A.S.</td>\n",
       "      <td>01/11/2026</td>\n",
       "      <td>null</td>\n",
       "      <td>NaN</td>\n",
       "      <td>N8</td>\n",
       "      <td>UI</td>\n",
       "      <td>AB</td>\n",
       "    </tr>\n",
       "    <tr>\n",
       "      <th>1619</th>\n",
       "      <td>GRUPO AFIN FARMACEUTICA S.A.S.</td>\n",
       "      <td>01/12/2026</td>\n",
       "      <td>null</td>\n",
       "      <td>NaN</td>\n",
       "      <td>N8</td>\n",
       "      <td>UI</td>\n",
       "      <td>AB</td>\n",
       "    </tr>\n",
       "  </tbody>\n",
       "</table>\n",
       "<p>1620 rows × 7 columns</p>\n",
       "</div>"
      ],
      "text/plain": [
       "                          customer_name   date_spec use_type       volume  \\\n",
       "0     ORGANIZACION VIHONCO IPS SOCIEDAD  01/01/2022     null   2,359,440    \n",
       "1     ORGANIZACION VIHONCO IPS SOCIEDAD  01/02/2022     null   2,339,100    \n",
       "2     ORGANIZACION VIHONCO IPS SOCIEDAD  01/03/2022     null   2,339,100    \n",
       "3     ORGANIZACION VIHONCO IPS SOCIEDAD  01/04/2022     null   2,318,760    \n",
       "4     ORGANIZACION VIHONCO IPS SOCIEDAD  01/05/2022     null   2,318,760    \n",
       "...                                 ...         ...      ...          ...   \n",
       "1615     GRUPO AFIN FARMACEUTICA S.A.S.  01/08/2026     null          NaN   \n",
       "1616     GRUPO AFIN FARMACEUTICA S.A.S.  01/09/2026     null          NaN   \n",
       "1617     GRUPO AFIN FARMACEUTICA S.A.S.  01/10/2026     null          NaN   \n",
       "1618     GRUPO AFIN FARMACEUTICA S.A.S.  01/11/2026     null          NaN   \n",
       "1619     GRUPO AFIN FARMACEUTICA S.A.S.  01/12/2026     null          NaN   \n",
       "\n",
       "     brand_name uom_code version_type  \n",
       "0            N8       UI           AB  \n",
       "1            N8       UI           AB  \n",
       "2            N8       UI           AB  \n",
       "3            N8       UI           AB  \n",
       "4            N8       UI           AB  \n",
       "...         ...      ...          ...  \n",
       "1615         N8       UI           AB  \n",
       "1616         N8       UI           AB  \n",
       "1617         N8       UI           AB  \n",
       "1618         N8       UI           AB  \n",
       "1619         N8       UI           AB  \n",
       "\n",
       "[1620 rows x 7 columns]"
      ]
     },
     "execution_count": 149,
     "metadata": {},
     "output_type": "execute_result"
    }
   ],
   "source": [
    "datas"
   ]
  }
 ],
 "metadata": {
  "kernelspec": {
   "display_name": "novoenv",
   "language": "python",
   "name": "python3"
  },
  "language_info": {
   "codemirror_mode": {
    "name": "ipython",
    "version": 3
   },
   "file_extension": ".py",
   "mimetype": "text/x-python",
   "name": "python",
   "nbconvert_exporter": "python",
   "pygments_lexer": "ipython3",
   "version": "3.10.11"
  },
  "orig_nbformat": 4
 },
 "nbformat": 4,
 "nbformat_minor": 2
}
