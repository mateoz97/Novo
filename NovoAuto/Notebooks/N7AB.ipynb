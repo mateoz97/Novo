{
 "cells": [
  {
   "cell_type": "markdown",
   "metadata": {},
   "source": [
    "### Import Libery for develop\n",
    "this section allow load everything dependence for develop the\n",
    "automate scrip and change all template AB/RE and Quotas. for this one\n",
    "it's need to get files with templates before to start. for every file\n",
    "it contein with 2 sheets.\n",
    "- NovoSeven\n",
    "- NovoEight"
   ]
  },
  {
   "cell_type": "code",
   "execution_count": 2,
   "metadata": {},
   "outputs": [],
   "source": [
    "import pandas as pd"
   ]
  },
  {
   "cell_type": "markdown",
   "metadata": {},
   "source": [
    "# N7 AB\n"
   ]
  },
  {
   "cell_type": "code",
   "execution_count": 3,
   "metadata": {},
   "outputs": [],
   "source": [
    "AB = pd.read_excel(r'C:\\Users\\mateo\\Documents\\NovoAuto\\NovoAuto\\Input\\AB.xlsx', sheet_name='NovoSeven_AB_Original')\n",
    "AB.columns = AB.columns.map(lambda x: '')\n",
    "customers_name = AB.iloc[:,0]"
   ]
  },
  {
   "cell_type": "markdown",
   "metadata": {},
   "source": [
    "### Extraction Customers"
   ]
  },
  {
   "cell_type": "code",
   "execution_count": 19,
   "metadata": {},
   "outputs": [],
   "source": [
    "customs = []\n",
    "rangos = []\n",
    "for i in range(222,580,11):\n",
    "    rango = slice(i+1,i+10)\n",
    "    rangos.append(rango)\n",
    "    customs.append(customers_name[i])\n",
    "for i in range(575,603):\n",
    "    customs.append(customers_name[i])\n",
    "customs = [x for x in customs if customs.count(x) == 1] \n",
    "customers = {custom: rango for custom, rango in zip(customs, rangos)}"
   ]
  },
  {
   "cell_type": "markdown",
   "metadata": {},
   "source": [
    "### Extraction use_type"
   ]
  },
  {
   "cell_type": "code",
   "execution_count": 21,
   "metadata": {},
   "outputs": [],
   "source": [
    "use_type= list(AB.iloc[223:232,0])"
   ]
  },
  {
   "cell_type": "markdown",
   "metadata": {},
   "source": [
    "### Dates"
   ]
  },
  {
   "cell_type": "code",
   "execution_count": 22,
   "metadata": {},
   "outputs": [],
   "source": [
    "date_spec = []\n",
    "for a in range(2022,2028):\n",
    "    for m in range(1,13):\n",
    "        if m < 10:\n",
    "            date = '01' + '/' + '0' + str(m) + '/' + str(a)\n",
    "            date_spec.append(date)\n",
    "        else:\n",
    "            date = '01' + '/' +  str(m) + '/' + str(a)\n",
    "            date_spec.append(date)"
   ]
  },
  {
   "cell_type": "markdown",
   "metadata": {},
   "source": [
    "### Generate of tables"
   ]
  },
  {
   "cell_type": "code",
   "execution_count": 23,
   "metadata": {},
   "outputs": [],
   "source": [
    "combinaciones = [(cliente, dates, ut) for cliente in customs for dates in date_spec for ut in use_type]\n",
    "ab_output = pd.DataFrame(combinaciones, columns=['customer_name','date_spec','use_type'])"
   ]
  },
  {
   "cell_type": "markdown",
   "metadata": {},
   "source": [
    "### Target Date"
   ]
  },
  {
   "cell_type": "code",
   "execution_count": 24,
   "metadata": {},
   "outputs": [],
   "source": [
    "years = {\n",
    "  '22' : slice(37,49),\n",
    "  '23' : slice(50,62),\n",
    "  '24' : slice(63,75),\n",
    "  '25' : slice(76,88),\n",
    "  '26' : slice(88,100),\n",
    "  '27' : slice(100,112)  \n",
    "  }  "
   ]
  },
  {
   "cell_type": "code",
   "execution_count": 27,
   "metadata": {},
   "outputs": [],
   "source": [
    "ab_report = []\n",
    "for custom in customers:\n",
    "    ab_volumenes = []\n",
    "    ab_volume = []\n",
    "\n",
    "    for year in years:\n",
    "        ab_volumenes.append(AB.iloc[customers[custom],years[year]])"
   ]
  },
  {
   "cell_type": "markdown",
   "metadata": {},
   "source": [
    "### Add Volume"
   ]
  },
  {
   "cell_type": "code",
   "execution_count": 1,
   "metadata": {},
   "outputs": [
    {
     "ename": "NameError",
     "evalue": "name 'customers' is not defined",
     "output_type": "error",
     "traceback": [
      "\u001b[1;31m---------------------------------------------------------------------------\u001b[0m",
      "\u001b[1;31mNameError\u001b[0m                                 Traceback (most recent call last)",
      "\u001b[1;32mc:\\Users\\mateo\\Documents\\NovoAuto\\NovoAuto\\Notebooks\\N7AB.ipynb Celda 17\u001b[0m line \u001b[0;36m2\n\u001b[0;32m      <a href='vscode-notebook-cell:/c%3A/Users/mateo/Documents/NovoAuto/NovoAuto/Notebooks/N7AB.ipynb#X22sZmlsZQ%3D%3D?line=0'>1</a>\u001b[0m ab_report \u001b[39m=\u001b[39m []\n\u001b[1;32m----> <a href='vscode-notebook-cell:/c%3A/Users/mateo/Documents/NovoAuto/NovoAuto/Notebooks/N7AB.ipynb#X22sZmlsZQ%3D%3D?line=1'>2</a>\u001b[0m \u001b[39mfor\u001b[39;00m custom \u001b[39min\u001b[39;00m customers:\n\u001b[0;32m      <a href='vscode-notebook-cell:/c%3A/Users/mateo/Documents/NovoAuto/NovoAuto/Notebooks/N7AB.ipynb#X22sZmlsZQ%3D%3D?line=2'>3</a>\u001b[0m     ab_volumenes \u001b[39m=\u001b[39m []\n\u001b[0;32m      <a href='vscode-notebook-cell:/c%3A/Users/mateo/Documents/NovoAuto/NovoAuto/Notebooks/N7AB.ipynb#X22sZmlsZQ%3D%3D?line=3'>4</a>\u001b[0m     ab_volume \u001b[39m=\u001b[39m []\n",
      "\u001b[1;31mNameError\u001b[0m: name 'customers' is not defined"
     ]
    }
   ],
   "source": [
    "ab_report = []\n",
    "for custom in customers:\n",
    "    ab_volumenes = []\n",
    "    ab_volume = []\n",
    "\n",
    "    for year in years:\n",
    "        ab_volumenes.append(AB.iloc[customers[custom],years[year]])\n",
    "    ab_volumenes = pd.concat(ab_volumenes, ignore_index=True)\n",
    "    ab_volumenes.columns = columna=['01','02','03','04','05','06','07','08','09','10','11','12']\n",
    "    data = ab_output.loc[ab_output['customer_name'] == custom].reset_index(drop=True)\n",
    "    for columna in ab_volumenes.columns:\n",
    "        for valor in ab_volumenes[columna]:\n",
    "            ab_volume.append(valor)\n",
    "    data.loc[:, 'volume'] = pd.DataFrame(ab_volume)\n",
    "    ab_report.append(data)\n",
    "ab_report = pd.concat(ab_report, ignore_index=True)\n",
    "ab_report['brand_name'] = 'N7'\n",
    "ab_report['uom_code'] = 'MG'\n",
    "ab_report['version_type'] = 'AB'\n"
   ]
  }
 ],
 "metadata": {
  "kernelspec": {
   "display_name": "novoenv",
   "language": "python",
   "name": "python3"
  },
  "language_info": {
   "codemirror_mode": {
    "name": "ipython",
    "version": 3
   },
   "file_extension": ".py",
   "mimetype": "text/x-python",
   "name": "python",
   "nbconvert_exporter": "python",
   "pygments_lexer": "ipython3",
   "version": "3.10.11"
  },
  "orig_nbformat": 4
 },
 "nbformat": 4,
 "nbformat_minor": 2
}
